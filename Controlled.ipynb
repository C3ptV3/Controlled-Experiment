{
 "cells": [
  {
   "cell_type": "code",
   "execution_count": 52,
   "metadata": {},
   "outputs": [
    {
     "data": {
      "text/html": [
       "<table>\n",
       "<caption>A data.frame: 4 × 2</caption>\n",
       "<thead>\n",
       "\t<tr><th scope=col>TDD</th><th scope=col>TAC</th></tr>\n",
       "\t<tr><th scope=col>&lt;int&gt;</th><th scope=col>&lt;int&gt;</th></tr>\n",
       "</thead>\n",
       "<tbody>\n",
       "\t<tr><td>35</td><td>18</td></tr>\n",
       "\t<tr><td>40</td><td>24</td></tr>\n",
       "\t<tr><td>45</td><td>30</td></tr>\n",
       "\t<tr><td>47</td><td>32</td></tr>\n",
       "</tbody>\n",
       "</table>\n"
      ],
      "text/latex": [
       "A data.frame: 4 × 2\n",
       "\\begin{tabular}{r|ll}\n",
       " TDD & TAC\\\\\n",
       " <int> & <int>\\\\\n",
       "\\hline\n",
       "\t 35 & 18\\\\\n",
       "\t 40 & 24\\\\\n",
       "\t 45 & 30\\\\\n",
       "\t 47 & 32\\\\\n",
       "\\end{tabular}\n"
      ],
      "text/markdown": [
       "\n",
       "A data.frame: 4 × 2\n",
       "\n",
       "| TDD &lt;int&gt; | TAC &lt;int&gt; |\n",
       "|---|---|\n",
       "| 35 | 18 |\n",
       "| 40 | 24 |\n",
       "| 45 | 30 |\n",
       "| 47 | 32 |\n",
       "\n"
      ],
      "text/plain": [
       "  TDD TAC\n",
       "1 35  18 \n",
       "2 40  24 \n",
       "3 45  30 \n",
       "4 47  32 "
      ]
     },
     "metadata": {},
     "output_type": "display_data"
    }
   ],
   "source": [
    "exp_data <- read.table(\"./exp.csv\", header=TRUE, sep=\";\")\n",
    "head(exp_data)"
   ]
  },
  {
   "cell_type": "code",
   "execution_count": 53,
   "metadata": {},
   "outputs": [
    {
     "data": {
      "text/plain": [
       "      TDD             TAC      \n",
       " Min.   :35.00   Min.   :18.0  \n",
       " 1st Qu.:38.75   1st Qu.:22.5  \n",
       " Median :42.50   Median :27.0  \n",
       " Mean   :41.75   Mean   :26.0  \n",
       " 3rd Qu.:45.50   3rd Qu.:30.5  \n",
       " Max.   :47.00   Max.   :32.0  "
      ]
     },
     "metadata": {},
     "output_type": "display_data"
    }
   ],
   "source": [
    "summary(exp_data)"
   ]
  },
  {
   "cell_type": "code",
   "execution_count": 54,
   "metadata": {},
   "outputs": [
    {
     "data": {
      "text/html": [
       "104"
      ],
      "text/latex": [
       "104"
      ],
      "text/markdown": [
       "104"
      ],
      "text/plain": [
       "[1] 104"
      ]
     },
     "metadata": {},
     "output_type": "display_data"
    },
    {
     "data": {
      "text/html": [
       "167"
      ],
      "text/latex": [
       "167"
      ],
      "text/markdown": [
       "167"
      ],
      "text/plain": [
       "[1] 167"
      ]
     },
     "metadata": {},
     "output_type": "display_data"
    }
   ],
   "source": [
    "sum(exp_data$TAC)\n",
    "sum(exp_data$TDD)"
   ]
  },
  {
   "cell_type": "code",
   "execution_count": 55,
   "metadata": {},
   "outputs": [
    {
     "data": {
      "text/html": [
       "5.37742193496723"
      ],
      "text/latex": [
       "5.37742193496723"
      ],
      "text/markdown": [
       "5.37742193496723"
      ],
      "text/plain": [
       "[1] 5.377422"
      ]
     },
     "metadata": {},
     "output_type": "display_data"
    },
    {
     "data": {
      "text/html": [
       "6.32455532033676"
      ],
      "text/latex": [
       "6.32455532033676"
      ],
      "text/markdown": [
       "6.32455532033676"
      ],
      "text/plain": [
       "[1] 6.324555"
      ]
     },
     "metadata": {},
     "output_type": "display_data"
    }
   ],
   "source": [
    "sd(exp_data$TDD)\n",
    "sd(exp_data$TAC)"
   ]
  },
  {
   "cell_type": "code",
   "execution_count": 56,
   "metadata": {},
   "outputs": [
    {
     "data": {
      "image/png": "[encoded data removed]",
      "text/plain": [
       "Plot with title \"Histogram of exp_data$TDD\""
      ]
     },
     "metadata": {},
     "output_type": "display_data"
    }
   ],
   "source": [
    "hist(exp_data$TDD)"
   ]
  },
  {
   "cell_type": "code",
   "execution_count": 57,
   "metadata": {},
   "outputs": [
    {
     "data": {
      "image/png": "[encoded data removed]",
      "text/plain": [
       "Plot with title \"Histogram of exp_data$TAC\""
      ]
     },
     "metadata": {},
     "output_type": "display_data"
    }
   ],
   "source": [
    "hist(exp_data$TAC)"
   ]
  },
  {
   "cell_type": "code",
   "execution_count": 58,
   "metadata": {},
   "outputs": [
    {
     "data": {
      "text/plain": [
       "\n",
       "\tShapiro-Wilk normality test\n",
       "\n",
       "data:  exp_data$TDD\n",
       "W = 0.95015, p-value = 0.7171\n"
      ]
     },
     "metadata": {},
     "output_type": "display_data"
    }
   ],
   "source": [
    "shapiro.test(exp_data$TDD)"
   ]
  },
  {
   "cell_type": "code",
   "execution_count": 59,
   "metadata": {},
   "outputs": [
    {
     "data": {
      "text/plain": [
       "\n",
       "\tShapiro-Wilk normality test\n",
       "\n",
       "data:  exp_data$TAC\n",
       "W = 0.93982, p-value = 0.6532\n"
      ]
     },
     "metadata": {},
     "output_type": "display_data"
    }
   ],
   "source": [
    "shapiro.test(exp_data$TAC)"
   ]
  },
  {
   "cell_type": "code",
   "execution_count": 60,
   "metadata": {},
   "outputs": [
    {
     "data": {
      "text/plain": [
       "\n",
       "\tWelch Two Sample t-test\n",
       "\n",
       "data:  exp_data$TDD and exp_data$TAC\n",
       "t = 3.7944, df = 5.8487, p-value = 0.004735\n",
       "alternative hypothesis: true difference in means is greater than 0\n",
       "95 percent confidence interval:\n",
       " 7.646727      Inf\n",
       "sample estimates:\n",
       "mean of x mean of y \n",
       "    41.75     26.00 \n"
      ]
     },
     "metadata": {},
     "output_type": "display_data"
    }
   ],
   "source": [
    "t.test(x=exp_data$TDD,y=exp_data$TAC, paired=FALSE, alternative=\"greater\")"
   ]
  },
  {
   "cell_type": "code",
   "execution_count": 47,
   "metadata": {},
   "outputs": [
    {
     "data": {
      "text/plain": [
       "\n",
       "\tWelch Two Sample t-test\n",
       "\n",
       "data:  exp_data$TDD and exp_data$TAC\n",
       "t = 3.7944, df = 5.8487, p-value = 0.9953\n",
       "alternative hypothesis: true difference in means is less than 0\n",
       "95 percent confidence interval:\n",
       "     -Inf 23.85327\n",
       "sample estimates:\n",
       "mean of x mean of y \n",
       "    41.75     26.00 \n"
      ]
     },
     "metadata": {},
     "output_type": "display_data"
    }
   ],
   "source": [
    "t.test(x=exp_data$TDD,y=exp_data$TAC, paired=FALSE, alternative=\"less\")"
   ]
  },
  {
   "cell_type": "code",
   "execution_count": 29,
   "metadata": {},
   "outputs": [
    {
     "data": {
      "text/plain": [
       "\n",
       "\tShapiro-Wilk normality test\n",
       "\n",
       "data:  exp_data$TDD\n",
       "W = 0.95454, p-value = 0.7446\n"
      ]
     },
     "metadata": {},
     "output_type": "display_data"
    }
   ],
   "source": [
    "shapiro.test(exp_data$TDD)"
   ]
  },
  {
   "cell_type": "code",
   "execution_count": 61,
   "metadata": {
    "scrolled": true
   },
   "outputs": [
    {
     "data": {
      "text/plain": [
       "\n",
       "\tShapiro-Wilk normality test\n",
       "\n",
       "data:  exp_data$TAC\n",
       "W = 0.93982, p-value = 0.6532\n"
      ]
     },
     "metadata": {},
     "output_type": "display_data"
    }
   ],
   "source": [
    "shapiro.test(exp_data$TAC)"
   ]
  },
  {
   "cell_type": "code",
   "execution_count": null,
   "metadata": {},
   "outputs": [],
   "source": []
  }
 ],
 "metadata": {
  "kernelspec": {
   "display_name": "R",
   "language": "R",
   "name": "ir"
  },
  "language_info": {
   "codemirror_mode": "r",
   "file_extension": ".r",
   "mimetype": "text/x-r-source",
   "name": "R",
   "pygments_lexer": "r",
   "version": "3.6.1"
  }
 },
 "nbformat": 4,
 "nbformat_minor": 2
}
